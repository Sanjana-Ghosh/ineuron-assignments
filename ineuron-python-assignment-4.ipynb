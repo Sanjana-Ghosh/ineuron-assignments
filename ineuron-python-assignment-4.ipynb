{
 "cells": [
  {
   "cell_type": "markdown",
   "metadata": {},
   "source": [
    "1.1 Write a Python Program(with class concepts) to find the area of the triangle using the below\n",
    "formula.  \n",
    "area = (s*(s-a)*(s-b)*(s-c)) *** 0.5  \n",
    "Function to take the length of the sides of triangle from user should be defined in the parent\n",
    "class and function to calculate the area should be defined in subclass."
   ]
  },
  {
   "cell_type": "code",
   "execution_count": 29,
   "metadata": {},
   "outputs": [
    {
     "name": "stdout",
     "output_type": "stream",
     "text": [
      "Enter a : 2\n",
      "Enter b : 3\n",
      "Enter c : 4\n",
      "Area of the triangle is:2.90\n"
     ]
    }
   ],
   "source": [
    "\n",
    "class Shape:\n",
    "    def __init__(self,a,b,c):\n",
    "        self.a = a\n",
    "        self.b = b\n",
    "        self.c = c\n",
    "        \n",
    "class Triangle(Shape):\n",
    "    def __init__(self,*args):\n",
    "        super(Triangle, self).__init__(*args)\n",
    "    def area(self):\n",
    "        if a+b<c or a+c<b or b+c<a:\n",
    "            print('Not a triangle(The sum of any two sides should be larger than the third)')\n",
    "        else:\n",
    "            self.s = (a + b + c)/2\n",
    "            self.ar = (self.s*(self.s-self.a)*(self.s-self.b)*(self.s-self.c)) ** 0.5\n",
    "            print('Area of the triangle is:{:.2f}'.format(self.ar))\n",
    "        \n",
    "a = float(input('Enter a : '))\n",
    "b = float(input('Enter b : '))\n",
    "c = float(input('Enter c : '))\n",
    "t = Triangle(a,b,c)       \n",
    "t.area()"
   ]
  },
  {
   "cell_type": "markdown",
   "metadata": {},
   "source": [
    "1.2 Write a function filter_long_words() that takes a list of words and an integer n and returns\n",
    "the list of words that are longer than n."
   ]
  },
  {
   "cell_type": "code",
   "execution_count": 31,
   "metadata": {},
   "outputs": [
    {
     "name": "stdout",
     "output_type": "stream",
     "text": [
      "['Sanjana', 'Sushovan', 'TomJerry']\n"
     ]
    }
   ],
   "source": [
    "def filter_long_words(lst,n):\n",
    "    long_word_list = []\n",
    "    for word in lst:\n",
    "        if len(word)>n:\n",
    "            long_word_list.append(word)\n",
    "    return long_word_list\n",
    "\n",
    "long_words = filter_long_words(['Sanjana','Ghosh','Sushovan','Sen','TomJerry','Peach'],5)   \n",
    "print(long_words)"
   ]
  },
  {
   "cell_type": "markdown",
   "metadata": {},
   "source": [
    "\n",
    "2.1 Write a Python program using function concept that maps list of words into a list of integers\n",
    "representing the lengths of the corresponding words.\n",
    "\n",
    "Hint: If a list [ ab,cde,erty] is passed on to the python function output should come as [2,3,4]\n",
    "Here 2,3 and 4 are the lengths of the words in the list"
   ]
  },
  {
   "cell_type": "code",
   "execution_count": 32,
   "metadata": {},
   "outputs": [
    {
     "name": "stdout",
     "output_type": "stream",
     "text": [
      "[2, 3, 4]\n"
     ]
    }
   ],
   "source": [
    "def word_len(lst):\n",
    "    result = []\n",
    "    for word in lst:\n",
    "        result.append(len(word))\n",
    "    return result\n",
    "\n",
    "length_of_word = word_len( [ 'ab','cde','erty'] )\n",
    "print(length_of_word)"
   ]
  },
  {
   "cell_type": "markdown",
   "metadata": {},
   "source": [
    "\n",
    "2.2 Write a Python function which takes a character (i.e. a string of length 1) and returns True if\n",
    "it is a vowel, False otherwise."
   ]
  },
  {
   "cell_type": "code",
   "execution_count": 37,
   "metadata": {},
   "outputs": [
    {
     "name": "stdout",
     "output_type": "stream",
     "text": [
      "Enter the character: E\n"
     ]
    },
    {
     "data": {
      "text/plain": [
       "True"
      ]
     },
     "execution_count": 37,
     "metadata": {},
     "output_type": "execute_result"
    }
   ],
   "source": [
    "def vowel_check(char):\n",
    "    if len(char)!=1 or char.isalpha()==False:\n",
    "        print('Invalid input, please enter character')\n",
    "    elif char == 'a' or char == 'e'or char == 'i'or char == 'o'or char == 'u'or char == 'A'or char == 'E'or char == 'I'or char == 'O'or char == 'U':\n",
    "        return True\n",
    "    else:\n",
    "        return False\n",
    "\n",
    "char = input('Enter the character: ')\n",
    "is_vowel = vowel_check(char)\n",
    "is_vowel"
   ]
  }
 ],
 "metadata": {
  "kernelspec": {
   "display_name": "Python 3",
   "language": "python",
   "name": "python3"
  },
  "language_info": {
   "codemirror_mode": {
    "name": "ipython",
    "version": 3
   },
   "file_extension": ".py",
   "mimetype": "text/x-python",
   "name": "python",
   "nbconvert_exporter": "python",
   "pygments_lexer": "ipython3",
   "version": "3.7.6"
  }
 },
 "nbformat": 4,
 "nbformat_minor": 4
}
